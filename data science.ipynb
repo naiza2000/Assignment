{
 "cells": [
  {
   "cell_type": "code",
   "execution_count": 2,
   "metadata": {},
   "outputs": [],
   "source": [
    "import os\n",
    "notebook_path = os.path.abspath(\"data science.ipynb\")\n",
    "listing = os.path.join(os.path.dirname(notebook_path), \"listings.csv\")"
   ]
  },
  {
   "cell_type": "code",
   "execution_count": 3,
   "metadata": {},
   "outputs": [],
   "source": [
    "import pandas as pd\n",
    "df = pd.read_csv(listing)"
   ]
  },
  {
   "cell_type": "markdown",
   "metadata": {},
   "source": [
    "# Q1\n"
   ]
  },
  {
   "cell_type": "code",
   "execution_count": 4,
   "metadata": {},
   "outputs": [],
   "source": [
    "topareas = df.groupby(['neighbourhood'])['calculated_host_listings_count'].count().nlargest(10).reset_index(name='top10')"
   ]
  },
  {
   "cell_type": "code",
   "execution_count": 5,
   "metadata": {
    "scrolled": false
   },
   "outputs": [
    {
     "name": "stdout",
     "output_type": "stream",
     "text": [
      "Top 10 areas with highest number of listings: \n",
      "  neighbourhood  top10\n",
      "0       Vadhana   2455\n",
      "1   Khlong Toei   2376\n",
      "2   Huai Khwang   1500\n",
      "3   Ratchathewi   1371\n",
      "4      Bang Rak   1079\n",
      "5        Sathon    880\n",
      "6   Phra Nakhon    802\n",
      "7  Phra Khanong    696\n",
      "8    Chatu Chak    632\n",
      "9     Din Daeng    576\n"
     ]
    }
   ],
   "source": [
    "print ('Top 10 areas with highest number of listings: ')\n",
    "print(topareas)"
   ]
  },
  {
   "cell_type": "markdown",
   "metadata": {},
   "source": [
    "# Q2\n"
   ]
  },
  {
   "cell_type": "code",
   "execution_count": 7,
   "metadata": {},
   "outputs": [],
   "source": [
    "import geoplot as gplt\n",
    "import geopandas as gpd\n",
    "import geoplot.crs as gcrs\n",
    "import imageio\n",
    "import pandas as pd\n",
    "import pathlib\n",
    "import matplotlib.pyplot as plt\n",
    "import mapclassify as mc\n",
    "import numpy as np"
   ]
  },
  {
   "cell_type": "code",
   "execution_count": 8,
   "metadata": {},
   "outputs": [
    {
     "name": "stdout",
     "output_type": "stream",
     "text": [
      "neighbourhood    room_type      \n",
      "Bang Bon         Entire home/apt      4\n",
      "                 Private room         3\n",
      "Bang Kapi        Entire home/apt    178\n",
      "                 Hotel room           3\n",
      "                 Private room       144\n",
      "                                   ... \n",
      "Wang Thong Lang  Shared room          5\n",
      "Yan na wa        Entire home/apt    138\n",
      "                 Hotel room           9\n",
      "                 Private room        79\n",
      "                 Shared room          4\n",
      "Name: room_type, Length: 169, dtype: int64\n"
     ]
    }
   ],
   "source": [
    "grouped = df.groupby(['neighbourhood', 'room_type'])['room_type'].count()\n",
    "grouped.to_csv('roomtype.csv')\n",
    "print(grouped)"
   ]
  },
  {
   "cell_type": "code",
   "execution_count": 8,
   "metadata": {},
   "outputs": [],
   "source": [
    "import csv"
   ]
  },
  {
   "cell_type": "code",
   "execution_count": 9,
   "metadata": {},
   "outputs": [],
   "source": [
    "with open('roomtype.csv', 'r') as f, open('private.csv', 'w') as f_out:\n",
    "    reader = csv.DictReader(f)\n",
    "    writer = csv.DictWriter(f_out, fieldnames=reader.fieldnames)\n",
    "    writer.writeheader()  \n",
    "    for row in reader:\n",
    "        if row['room_type'] == \"Private room\":\n",
    "            writer.writerow(row)"
   ]
  },
  {
   "cell_type": "code",
   "execution_count": 10,
   "metadata": {},
   "outputs": [],
   "source": [
    "with open('roomtype.csv', 'r') as f, open('entire_home.csv', 'w') as f_out:\n",
    "    reader = csv.DictReader(f)\n",
    "    writer = csv.DictWriter(f_out, fieldnames=reader.fieldnames)\n",
    "    writer.writeheader()  \n",
    "    for row in reader:\n",
    "        if row['room_type'] == \"Entire home/apt\":\n",
    "            writer.writerow(row)"
   ]
  },
  {
   "cell_type": "code",
   "execution_count": 11,
   "metadata": {},
   "outputs": [],
   "source": [
    "with open(\"private.csv\", \"r\") as source:\n",
    "    reader = csv.reader(source)\n",
    "      \n",
    "    with open(\"PRIVATE.csv\", \"w\") as result:\n",
    "        writer = csv.writer(result)\n",
    "        for r in reader:\n",
    "            writer.writerow((r[0], r[2]))"
   ]
  },
  {
   "cell_type": "code",
   "execution_count": 12,
   "metadata": {},
   "outputs": [],
   "source": [
    "with open(\"entire_home.csv\", \"r\") as source:\n",
    "    reader = csv.reader(source)\n",
    "      \n",
    "    with open(\"ENTIRE_HOME.csv\", \"w\") as result:\n",
    "        writer = csv.writer(result)\n",
    "        for r in reader:\n",
    "            writer.writerow((r[0], r[2]))"
   ]
  },
  {
   "cell_type": "code",
   "execution_count": 13,
   "metadata": {},
   "outputs": [
    {
     "data": {
      "text/html": [
       "<div>\n",
       "<style scoped>\n",
       "    .dataframe tbody tr th:only-of-type {\n",
       "        vertical-align: middle;\n",
       "    }\n",
       "\n",
       "    .dataframe tbody tr th {\n",
       "        vertical-align: top;\n",
       "    }\n",
       "\n",
       "    .dataframe thead th {\n",
       "        text-align: right;\n",
       "    }\n",
       "</style>\n",
       "<table border=\"1\" class=\"dataframe\">\n",
       "  <thead>\n",
       "    <tr style=\"text-align: right;\">\n",
       "      <th></th>\n",
       "      <th>neighbourhood</th>\n",
       "      <th>count</th>\n",
       "    </tr>\n",
       "  </thead>\n",
       "  <tbody>\n",
       "    <tr>\n",
       "      <th>0</th>\n",
       "      <td>Bang Bon</td>\n",
       "      <td>3</td>\n",
       "    </tr>\n",
       "    <tr>\n",
       "      <th>1</th>\n",
       "      <td>Bang Kapi</td>\n",
       "      <td>144</td>\n",
       "    </tr>\n",
       "    <tr>\n",
       "      <th>2</th>\n",
       "      <td>Bang Khae</td>\n",
       "      <td>58</td>\n",
       "    </tr>\n",
       "    <tr>\n",
       "      <th>3</th>\n",
       "      <td>Bang Khen</td>\n",
       "      <td>82</td>\n",
       "    </tr>\n",
       "    <tr>\n",
       "      <th>4</th>\n",
       "      <td>Bang Kho laen</td>\n",
       "      <td>52</td>\n",
       "    </tr>\n",
       "  </tbody>\n",
       "</table>\n",
       "</div>"
      ],
      "text/plain": [
       "   neighbourhood  count\n",
       "0       Bang Bon      3\n",
       "1      Bang Kapi    144\n",
       "2      Bang Khae     58\n",
       "3      Bang Khen     82\n",
       "4  Bang Kho laen     52"
      ]
     },
     "execution_count": 13,
     "metadata": {},
     "output_type": "execute_result"
    }
   ],
   "source": [
    "private = pd.read_csv(\"PRIVATE.csv\")\n",
    "private.head()"
   ]
  },
  {
   "cell_type": "code",
   "execution_count": 14,
   "metadata": {},
   "outputs": [
    {
     "data": {
      "text/html": [
       "<div>\n",
       "<style scoped>\n",
       "    .dataframe tbody tr th:only-of-type {\n",
       "        vertical-align: middle;\n",
       "    }\n",
       "\n",
       "    .dataframe tbody tr th {\n",
       "        vertical-align: top;\n",
       "    }\n",
       "\n",
       "    .dataframe thead th {\n",
       "        text-align: right;\n",
       "    }\n",
       "</style>\n",
       "<table border=\"1\" class=\"dataframe\">\n",
       "  <thead>\n",
       "    <tr style=\"text-align: right;\">\n",
       "      <th></th>\n",
       "      <th>neighbourhood</th>\n",
       "      <th>neighbourhood_group</th>\n",
       "      <th>geometry</th>\n",
       "    </tr>\n",
       "  </thead>\n",
       "  <tbody>\n",
       "    <tr>\n",
       "      <th>0</th>\n",
       "      <td>Bang Phlat</td>\n",
       "      <td>None</td>\n",
       "      <td>MULTIPOLYGON (((100.51649 13.80034, 100.51622 ...</td>\n",
       "    </tr>\n",
       "    <tr>\n",
       "      <th>1</th>\n",
       "      <td>Huai Khwang</td>\n",
       "      <td>None</td>\n",
       "      <td>MULTIPOLYGON (((100.58853 13.80282, 100.58852 ...</td>\n",
       "    </tr>\n",
       "    <tr>\n",
       "      <th>2</th>\n",
       "      <td>Wang Thong Lang</td>\n",
       "      <td>None</td>\n",
       "      <td>MULTIPOLYGON (((100.61295 13.79495, 100.61306 ...</td>\n",
       "    </tr>\n",
       "    <tr>\n",
       "      <th>3</th>\n",
       "      <td>Thawi Watthana</td>\n",
       "      <td>None</td>\n",
       "      <td>MULTIPOLYGON (((100.39673 13.80187, 100.39802 ...</td>\n",
       "    </tr>\n",
       "    <tr>\n",
       "      <th>4</th>\n",
       "      <td>Lat Krabang</td>\n",
       "      <td>None</td>\n",
       "      <td>MULTIPOLYGON (((100.79514 13.79399, 100.79516 ...</td>\n",
       "    </tr>\n",
       "  </tbody>\n",
       "</table>\n",
       "</div>"
      ],
      "text/plain": [
       "     neighbourhood neighbourhood_group  \\\n",
       "0       Bang Phlat                None   \n",
       "1      Huai Khwang                None   \n",
       "2  Wang Thong Lang                None   \n",
       "3   Thawi Watthana                None   \n",
       "4      Lat Krabang                None   \n",
       "\n",
       "                                            geometry  \n",
       "0  MULTIPOLYGON (((100.51649 13.80034, 100.51622 ...  \n",
       "1  MULTIPOLYGON (((100.58853 13.80282, 100.58852 ...  \n",
       "2  MULTIPOLYGON (((100.61295 13.79495, 100.61306 ...  \n",
       "3  MULTIPOLYGON (((100.39673 13.80187, 100.39802 ...  \n",
       "4  MULTIPOLYGON (((100.79514 13.79399, 100.79516 ...  "
      ]
     },
     "execution_count": 14,
     "metadata": {},
     "output_type": "execute_result"
    }
   ],
   "source": [
    "map_df = gpd.read_file(\"neighbourhoods.geojson\")\n",
    "map_df.head()\n"
   ]
  },
  {
   "cell_type": "code",
   "execution_count": 15,
   "metadata": {},
   "outputs": [
    {
     "data": {
      "text/html": [
       "<div>\n",
       "<style scoped>\n",
       "    .dataframe tbody tr th:only-of-type {\n",
       "        vertical-align: middle;\n",
       "    }\n",
       "\n",
       "    .dataframe tbody tr th {\n",
       "        vertical-align: top;\n",
       "    }\n",
       "\n",
       "    .dataframe thead th {\n",
       "        text-align: right;\n",
       "    }\n",
       "</style>\n",
       "<table border=\"1\" class=\"dataframe\">\n",
       "  <thead>\n",
       "    <tr style=\"text-align: right;\">\n",
       "      <th></th>\n",
       "      <th>neighbourhood</th>\n",
       "      <th>neighbourhood_group</th>\n",
       "      <th>geometry</th>\n",
       "      <th>count</th>\n",
       "    </tr>\n",
       "  </thead>\n",
       "  <tbody>\n",
       "    <tr>\n",
       "      <th>0</th>\n",
       "      <td>Bang Phlat</td>\n",
       "      <td>None</td>\n",
       "      <td>MULTIPOLYGON (((100.51649 13.80034, 100.51622 ...</td>\n",
       "      <td>108</td>\n",
       "    </tr>\n",
       "    <tr>\n",
       "      <th>1</th>\n",
       "      <td>Huai Khwang</td>\n",
       "      <td>None</td>\n",
       "      <td>MULTIPOLYGON (((100.58853 13.80282, 100.58852 ...</td>\n",
       "      <td>391</td>\n",
       "    </tr>\n",
       "    <tr>\n",
       "      <th>2</th>\n",
       "      <td>Wang Thong Lang</td>\n",
       "      <td>None</td>\n",
       "      <td>MULTIPOLYGON (((100.61295 13.79495, 100.61306 ...</td>\n",
       "      <td>74</td>\n",
       "    </tr>\n",
       "    <tr>\n",
       "      <th>3</th>\n",
       "      <td>Thawi Watthana</td>\n",
       "      <td>None</td>\n",
       "      <td>MULTIPOLYGON (((100.39673 13.80187, 100.39802 ...</td>\n",
       "      <td>7</td>\n",
       "    </tr>\n",
       "    <tr>\n",
       "      <th>4</th>\n",
       "      <td>Lat Krabang</td>\n",
       "      <td>None</td>\n",
       "      <td>MULTIPOLYGON (((100.79514 13.79399, 100.79516 ...</td>\n",
       "      <td>118</td>\n",
       "    </tr>\n",
       "  </tbody>\n",
       "</table>\n",
       "</div>"
      ],
      "text/plain": [
       "     neighbourhood neighbourhood_group  \\\n",
       "0       Bang Phlat                None   \n",
       "1      Huai Khwang                None   \n",
       "2  Wang Thong Lang                None   \n",
       "3   Thawi Watthana                None   \n",
       "4      Lat Krabang                None   \n",
       "\n",
       "                                            geometry  count  \n",
       "0  MULTIPOLYGON (((100.51649 13.80034, 100.51622 ...    108  \n",
       "1  MULTIPOLYGON (((100.58853 13.80282, 100.58852 ...    391  \n",
       "2  MULTIPOLYGON (((100.61295 13.79495, 100.61306 ...     74  \n",
       "3  MULTIPOLYGON (((100.39673 13.80187, 100.39802 ...      7  \n",
       "4  MULTIPOLYGON (((100.79514 13.79399, 100.79516 ...    118  "
      ]
     },
     "execution_count": 15,
     "metadata": {},
     "output_type": "execute_result"
    }
   ],
   "source": [
    "pop_states = map_df.merge(private, left_on=\"neighbourhood\", right_on=\"neighbourhood\")\n",
    "pop_states.head()"
   ]
  },
  {
   "cell_type": "code",
   "execution_count": 27,
   "metadata": {},
   "outputs": [
    {
     "data": {
      "text/plain": [
       "<matplotlib.axes._subplots.AxesSubplot at 0x7f14ef64e710>"
      ]
     },
     "execution_count": 27,
     "metadata": {},
     "output_type": "execute_result"
    },
    {
     "data": {
      "image/png": "[encoded data removed]",
      "text/plain": [
       "<Figure size 576x432 with 1 Axes>"
      ]
     },
     "metadata": {
      "needs_background": "light"
     },
     "output_type": "display_data"
    }
   ],
   "source": [
    "\n",
    "gplt.polyplot(\n",
    "  pop_states,\n",
    "  \n",
    ")\n",
    "\n"
   ]
  },
  {
   "cell_type": "markdown",
   "metadata": {},
   "source": [
    "# Q3\n"
   ]
  },
  {
   "cell_type": "code",
   "execution_count": 24,
   "metadata": {},
   "outputs": [
    {
     "name": "stdout",
     "output_type": "stream",
     "text": [
      "Top 10 hosts with highest number of listings: \n",
      "       host_name  top10\n",
      "0          Curry  31329\n",
      "1            Rfh  14641\n",
      "2        Gravity   6241\n",
      "3          Nicha   5933\n",
      "4  ISanook Hotel   5184\n",
      "5          Noons   4489\n",
      "6          Magic   3969\n",
      "7       Pornchai   3945\n",
      "8        Dusadee   3844\n",
      "9              K   3724\n"
     ]
    }
   ],
   "source": [
    "tophosts = df.groupby(['host_name'])['calculated_host_listings_count'].sum().nlargest(10).reset_index(name='top10')\n",
    "print ('Top 10 hosts with highest number of listings: ')\n",
    "print(tophosts)"
   ]
  },
  {
   "cell_type": "markdown",
   "metadata": {},
   "source": [
    "# Q4\n"
   ]
  },
  {
   "cell_type": "code",
   "execution_count": 26,
   "metadata": {},
   "outputs": [
    {
     "name": "stdout",
     "output_type": "stream",
     "text": [
      "Mean price of stay in respective neighbourhoods : \n",
      "           neighbourhood   mean_price\n",
      "0               Bang Bon  1558.571429\n",
      "1              Bang Kapi  1220.843373\n",
      "2              Bang Khae  3831.281553\n",
      "3              Bang Khen  1244.000000\n",
      "4          Bang Kho laen  1723.285714\n",
      "5        Bang Khun thain  4006.285714\n",
      "6                Bang Na  1602.631304\n",
      "7             Bang Phlat  1553.647059\n",
      "8               Bang Rak  2693.925857\n",
      "9               Bang Sue  1345.280702\n",
      "10           Bangkok Noi  1893.536723\n",
      "11           Bangkok Yai  1722.617647\n",
      "12             Bueng Kum  1955.015385\n",
      "13            Chatu Chak  1626.865506\n",
      "14            Chom Thong  1740.741935\n",
      "15             Din Daeng  2146.164931\n",
      "16            Don Mueang  1147.409524\n",
      "17                 Dusit  3162.341880\n",
      "18           Huai Khwang  1843.764667\n",
      "19           Khan Na Yao  2074.188406\n",
      "20         Khlong Sam Wa  1835.046512\n",
      "21            Khlong San  2262.819838\n",
      "22           Khlong Toei  2507.895202\n",
      "23                Lak Si  1219.483221\n",
      "24           Lat Krabang  1347.553846\n",
      "25             Lat Phrao  2337.500000\n",
      "26              Min Buri  2757.471429\n",
      "27             Nong Chok  2410.368421\n",
      "28            Nong Khaem  1258.666667\n",
      "29           Parthum Wan  3213.092496\n",
      "30         Phasi Charoen  1325.162011\n",
      "31            Phaya Thai  1670.098881\n",
      "32          Phra Khanong  1574.035920\n",
      "33           Phra Nakhon  1579.953865\n",
      "34  Pom Prap Sattru Phai  1675.019355\n",
      "35               Pra Wet  2096.133690\n",
      "36            Rat Burana  1446.090909\n",
      "37           Ratchathewi  1752.004376\n",
      "38               Sai Mai  1477.230769\n",
      "39        Samphanthawong  2123.027778\n",
      "40           Saphan Sung  2187.510204\n",
      "41                Sathon  2296.069318\n",
      "42             Suanluang  1801.380130\n",
      "43           Taling Chan  6332.152174\n",
      "44        Thawi Watthana  2112.944444\n",
      "45             Thon buri  1592.379310\n",
      "46            Thung khru  1701.451613\n",
      "47               Vadhana  2452.802037\n",
      "48       Wang Thong Lang  1458.349398\n",
      "49             Yan na wa  2920.056522\n"
     ]
    }
   ],
   "source": [
    "meanprice = df.groupby(['neighbourhood'])['price'].mean().reset_index(name='mean_price')\n",
    "print ('Mean price of stay in respective neighbourhoods : ')\n",
    "print(meanprice)"
   ]
  },
  {
   "cell_type": "code",
   "execution_count": null,
   "metadata": {},
   "outputs": [],
   "source": []
  }
 ],
 "metadata": {
  "kernelspec": {
   "display_name": "Python 3",
   "language": "python",
   "name": "python3"
  },
  "language_info": {
   "codemirror_mode": {
    "name": "ipython",
    "version": 3
   },
   "file_extension": ".py",
   "mimetype": "text/x-python",
   "name": "python",
   "nbconvert_exporter": "python",
   "pygments_lexer": "ipython3",
   "version": "3.7.6"
  }
 },
 "nbformat": 4,
 "nbformat_minor": 4
}
